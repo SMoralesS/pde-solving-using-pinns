{
  "cells": [
    {
      "cell_type": "markdown",
      "metadata": {
        "id": "ifrMobwlhGhq"
      },
      "source": [
        "# Distance function in 2D (Linear difussion 2D)"
      ]
    },
    {
      "cell_type": "code",
      "execution_count": 1,
      "metadata": {
        "id": "xFZ3HUpNpR6u"
      },
      "outputs": [],
      "source": [
        "import turtle\n",
        "import random\n",
        "import timeit\n",
        "\n",
        "import tensorflow as tf\n",
        "import tensorflow as tf\n",
        "from tensorflow.keras.optimizers import Adam\n",
        "from tensorflow.keras.models import Model\n",
        "from tensorflow.keras.layers import Dense\n",
        "from tensorflow.keras import Input\n",
        "from keras.models import load_model\n",
        "\n",
        "import numpy as np\n",
        "from shapely.geometry import Point, Polygon\n",
        "import matplotlib.pyplot as plt"
      ]
    },
    {
      "cell_type": "code",
      "execution_count": null,
      "metadata": {
        "id": "xzTwK0TqF2Zd"
      },
      "outputs": [],
      "source": [
        "from google.colab import drive\n",
        "drive.mount('/content/drive')"
      ]
    },
    {
      "cell_type": "markdown",
      "metadata": {
        "id": "2ojqEF2s3YLD"
      },
      "source": [
        "# Constant and function definitions"
      ]
    },
    {
      "cell_type": "code",
      "execution_count": null,
      "metadata": {
        "id": "NFvVbDBYyxdE"
      },
      "outputs": [],
      "source": [
        "#Seeds\n",
        "np.random.seed(0)\n",
        "tf.random.set_seed(0)\n",
        "\n",
        "#Constants\n",
        "Nd = 101 #Collocation points in the domain\n",
        "Nb = 1   #Collocation points in the boundary\n",
        "\n",
        "#Computation of non-smooth distance function d:\n",
        "def d(xs, xbs):\n",
        "  #xs: List of collocation points\n",
        "  #xbs: List of boundary conditions\n",
        "  xs, xbs = np.array(xs), np.array(xbs)\n",
        "  ds = [min([np.linalg.norm(x - xb) for xb in xbs]) for x in xs]\n",
        "  return ds\n",
        "\n",
        "def custom_loss(y_actual,y_pred):\n",
        "    custom_loss=(0.5) * 1 / (Nb + Nd) * (y_actual-y_pred)**2\n",
        "    return custom_loss\n",
        "    \n",
        "def get_optimizer():\n",
        "  return tf.keras.optimizers.Adam(lr_schedule)\n",
        "\n",
        "start = timeit.default_timer()"
      ]
    },
    {
      "cell_type": "markdown",
      "metadata": {
        "id": "yEcn50bECGR-"
      },
      "source": [
        "## Define a star and use polygon to check points inside"
      ]
    },
    {
      "cell_type": "code",
      "execution_count": null,
      "metadata": {
        "id": "Ub7Yt0zBCGSD"
      },
      "outputs": [],
      "source": [
        "star=[]\n",
        "r = np.sqrt(0.5**2 + 0.25**2)\n",
        "R = 1\n",
        "\n",
        "num_vert = 12\n",
        "start = np.pi / 6\n",
        "for n in range(0,12):\n",
        "  if n % 2:\n",
        "    rad = r\n",
        "  else:\n",
        "    rad = R\n",
        "  x = rad * np.cos(start + 2 * np.pi * n / num_vert)\n",
        "  y = rad * np.sin(start + 2 * np.pi * n / num_vert)\n",
        "  star.append([x,y])\n",
        "\n",
        "star_poly = Polygon(star)"
      ]
    },
    {
      "cell_type": "markdown",
      "metadata": {
        "id": "IDEbbzrFCGSF"
      },
      "source": [
        "## Generate M random points in the boundary"
      ]
    },
    {
      "cell_type": "code",
      "execution_count": null,
      "metadata": {
        "id": "2ZE39jPdCGSG"
      },
      "outputs": [],
      "source": [
        "def get_random_boundary_point(polygon):\n",
        "  x,y = star_poly.exterior.xy\n",
        "  points = [*zip(x,y)]\n",
        "  random_index = random.randint(0, len(points)-1)\n",
        "  a, b = np.array(points[random_index]), np.array(points[(random_index + 1) % len(points)])\n",
        "  new_random_point = a + random.random() * (b - a)\n",
        "  return list(new_random_point)"
      ]
    },
    {
      "cell_type": "markdown",
      "metadata": {
        "id": "_95lhdtdCGSO"
      },
      "source": [
        "## Generate N random points inside"
      ]
    },
    {
      "cell_type": "code",
      "execution_count": null,
      "metadata": {
        "id": "Xfw21e-sCGSO"
      },
      "outputs": [],
      "source": [
        "def get_random_inside_polygon(polygon):\n",
        "  minx, miny, maxx, maxy = polygon.bounds\n",
        "  while True:\n",
        "    p = Point(random.uniform(minx, maxx), random.uniform(miny, maxy))\n",
        "    if polygon.contains(p):\n",
        "      x, y = p.x, p.y\n",
        "      return [x, y]"
      ]
    },
    {
      "cell_type": "code",
      "execution_count": null,
      "metadata": {
        "id": "EbN6N-_LCGSP"
      },
      "outputs": [],
      "source": [
        "M = 50\n",
        "N = 500\n",
        "\n",
        "random_boundary_points = [get_random_boundary_point(star_poly) for _ in range(M)]\n",
        "random_inside_points = [get_random_inside_polygon(star_poly) for _ in range(N)]"
      ]
    },
    {
      "cell_type": "code",
      "execution_count": null,
      "metadata": {
        "id": "mRoN7vyZCGSQ"
      },
      "outputs": [],
      "source": [
        "x,y = star_poly.exterior.xy\n",
        "fig, ax = plt.subplots(figsize=(8,8))\n",
        "\n",
        "ax.plot(x,y)\n",
        "ax.scatter(*list(zip(*random_boundary_points)), color=\"blue\", marker='x')\n",
        "ax.scatter(*list(zip(*random_inside_points)), color=\"red\", marker='x')\n",
        "plt.show()"
      ]
    },
    {
      "cell_type": "markdown",
      "metadata": {
        "id": "GsYu3Lu-CGSQ"
      },
      "source": [
        "## Calculate fine grid"
      ]
    },
    {
      "cell_type": "code",
      "execution_count": null,
      "metadata": {
        "id": "f1nlzAhRCGSR"
      },
      "outputs": [],
      "source": [
        "N = 5000\n",
        "M = 500\n",
        "\n",
        "random_boundary_points = [get_random_boundary_point(star_poly) for _ in range(M)]\n",
        "random_inside_points = [get_random_inside_polygon(star_poly) for _ in range(N)]\n",
        "\n",
        "x,y = star_poly.exterior.xy\n",
        "fig, ax = plt.subplots(figsize=(8,8))\n",
        "\n",
        "ax.plot(x,y)\n",
        "ax.scatter(*list(zip(*random_boundary_points)), color=\"blue\", marker='x')\n",
        "ax.scatter(*list(zip(*random_inside_points)), color=\"red\", marker='x', s=10)\n",
        "plt.show()"
      ]
    },
    {
      "cell_type": "markdown",
      "metadata": {
        "id": "8f3wddBTo-y2"
      },
      "source": [
        "# Model for distance function (Linear difussion 2D) "
      ]
    },
    {
      "cell_type": "code",
      "execution_count": null,
      "metadata": {
        "id": "8XHU4kcBo-y2"
      },
      "outputs": [],
      "source": [
        "#Define the model\n",
        "\n",
        "inputs = Input(shape=(2,))\n",
        "x = Dense(20, 'sigmoid', dtype='float64')(inputs)\n",
        "x = Dense(20, 'sigmoid')(x)\n",
        "y = Dense(1, dtype='float64')(x)\n",
        "model_distance_difussion = Model(inputs=inputs, outputs=y)\n",
        "\n",
        "optimizer = Adam(learning_rate=0.01, beta_1=0.9, beta_2=0.99)\n",
        "model_distance_difussion.compile(loss=custom_loss,\n",
        "                optimizer=optimizer,\n",
        "                metrics=['mae', 'mse'])\n",
        "\n",
        "tf.keras.utils.plot_model(model_distance_difussion,show_shapes=True)"
      ]
    },
    {
      "cell_type": "code",
      "execution_count": null,
      "metadata": {
        "id": "Ctw9_q5fCGSU"
      },
      "outputs": [],
      "source": [
        "N = 500\n",
        "M = 250\n",
        "\n",
        "random_inside_points = [get_random_inside_polygon(star_poly) for _ in range(N)]\n",
        "random_boundary_points = [get_random_boundary_point(star_poly) for _ in range(M)]\n",
        "\n",
        "#Random set to train of train_size random points in the domain (excluding extremal points)\n",
        "x_train = np.array(random_inside_points).reshape(-1, 2)\n",
        "ds = d(x_train, random_boundary_points)\n",
        "y_train = np.array(ds).reshape(-1, 1)"
      ]
    },
    {
      "cell_type": "code",
      "execution_count": null,
      "metadata": {
        "id": "qDbTb6BxCGSU"
      },
      "outputs": [],
      "source": [
        "x,y = star_poly.exterior.xy\n",
        "fig, ax = plt.subplots(figsize=(8,8))\n",
        "\n",
        "ax.plot(x,y)\n",
        "ax.scatter(*list(zip(*random_boundary_points)), color=\"blue\", marker='x')\n",
        "ax.scatter(*list(zip(*random_inside_points)), color=\"red\", marker='x', s=10)\n",
        "plt.show()"
      ]
    },
    {
      "cell_type": "code",
      "execution_count": null,
      "metadata": {
        "id": "vznUIUUOCGSV"
      },
      "outputs": [],
      "source": [
        "model_distance_difussion.fit(x_train, y_train, epochs=1000, verbose=False)"
      ]
    },
    {
      "cell_type": "markdown",
      "metadata": {
        "id": "rNKlnwgwCGSW"
      },
      "source": [
        "## Plotting distance model"
      ]
    },
    {
      "cell_type": "code",
      "execution_count": null,
      "metadata": {
        "id": "g8cQC_iyCGSX"
      },
      "outputs": [],
      "source": [
        "@np.vectorize\n",
        "def distance_inside_difussion(x, y, polygon: Polygon):\n",
        "  distance = model_distance_difussion.predict([[x, y]])[0][0] if polygon.contains(Point([x, y])) else np.nan\n",
        "  return distance"
      ]
    },
    {
      "cell_type": "code",
      "execution_count": null,
      "metadata": {
        "id": "Fo-kS9XlCGSX"
      },
      "outputs": [],
      "source": [
        "# generate 2 2d grids for the x & y bounds\n",
        "y, x = np.meshgrid(np.linspace(-1, 1, 100), np.linspace(-1, 1, 100))\n",
        "z = distance_inside_difussion(x, y, star_poly)"
      ]
    },
    {
      "cell_type": "code",
      "execution_count": null,
      "metadata": {
        "id": "NFznL_zaCGSY"
      },
      "outputs": [],
      "source": [
        "z_min, z_max = np.nanmin(z), np.nanmax(z)\n",
        "\n",
        "fig, ax = plt.subplots(figsize=(13,8))\n",
        "\n",
        "c = ax.pcolormesh(x, y, z, cmap='RdBu', vmin=z_min, vmax=z_max)\n",
        "ax.set_title('Smoothed distance function')\n",
        "# set the limits of the plot to the limits of the data\n",
        "ax.axis([x.min(), x.max(), y.min(), y.max()])\n",
        "fig.colorbar(c, ax=ax)\n",
        "\n",
        "plt.show()"
      ]
    },
    {
      "cell_type": "markdown",
      "metadata": {
        "id": "w4O4NOp9CGSY"
      },
      "source": [
        "## Save model distance"
      ]
    },
    {
      "cell_type": "code",
      "execution_count": null,
      "metadata": {
        "id": "h1by7xc4CGSZ"
      },
      "outputs": [],
      "source": [
        "model_distance_difussion.save('/content/drive/MyDrive/models_TFM/model_distance_difussion.h5')"
      ]
    },
    {
      "cell_type": "markdown",
      "metadata": {
        "id": "E7q-TkM2CGSZ"
      },
      "source": [
        "## Load model distance"
      ]
    },
    {
      "cell_type": "code",
      "execution_count": null,
      "metadata": {
        "id": "7WFhIz48CGSZ"
      },
      "outputs": [],
      "source": [
        "model_distance_difussion = load_model(\n",
        "    '/content/drive/MyDrive/models_TFM/model_distance_difussion.h5', \n",
        "    custom_objects={'custom_loss':custom_loss}\n",
        "    )"
      ]
    },
    {
      "cell_type": "markdown",
      "metadata": {
        "id": "Ioep66ofCGSa"
      },
      "source": [
        "# Model for the smooth extension of the boundary data ($g(x,y)$) (Linear difussion 2D)"
      ]
    },
    {
      "cell_type": "code",
      "execution_count": null,
      "metadata": {
        "id": "JfDVkYhW4ahv"
      },
      "outputs": [],
      "source": [
        "def u(x, y):\n",
        "  return np.exp(-(2*x**2 + 4*y**2)) + 1/2\n",
        "\n",
        "def g(x, y):\n",
        "  return u(x, y)"
      ]
    },
    {
      "cell_type": "code",
      "execution_count": null,
      "metadata": {
        "id": "untyYVtNCGSb"
      },
      "outputs": [],
      "source": [
        "#Define the model\n",
        "\n",
        "inputs = Input(shape=(2,))\n",
        "x = Dense(10, 'sigmoid', dtype='float64')(inputs)\n",
        "x = Dense(10, 'sigmoid')(x)\n",
        "y = Dense(1, dtype='float64')(x)\n",
        "model_boundary_difussion = Model(inputs=inputs, outputs=y)\n",
        "\n",
        "optimizer = Adam(learning_rate=0.01, beta_1=0.9, beta_2=0.99)\n",
        "model_boundary_difussion.compile(loss=custom_loss,\n",
        "                optimizer=optimizer,\n",
        "                metrics=['mae', 'mse'])\n",
        "\n",
        "tf.keras.utils.plot_model(model_boundary_difussion,show_shapes=True)"
      ]
    },
    {
      "cell_type": "code",
      "execution_count": null,
      "metadata": {
        "id": "t8ZzvO62CGSc"
      },
      "outputs": [],
      "source": [
        "x_train = np.array(random_boundary_points).reshape(-1, 2)\n",
        "y_train = np.array([g(x, y) for x, y in x_train])\n",
        "\n",
        "model_boundary_difussion.fit(x_train, y_train, epochs=1000, verbose=False)"
      ]
    },
    {
      "cell_type": "markdown",
      "metadata": {
        "id": "6QhdV7wxCGSc"
      },
      "source": [
        "## Save model boundary"
      ]
    },
    {
      "cell_type": "code",
      "execution_count": null,
      "metadata": {
        "id": "2DVCcnA-CGSd"
      },
      "outputs": [],
      "source": [
        "model_boundary_difussion.save('/content/drive/MyDrive/models_TFM/model_boundary_difussion.h5')"
      ]
    },
    {
      "cell_type": "markdown",
      "metadata": {
        "id": "7JsWZ3WdCGSd"
      },
      "source": [
        "## Load model boundary"
      ]
    },
    {
      "cell_type": "code",
      "execution_count": null,
      "metadata": {
        "id": "HHgW5-X1CGSd"
      },
      "outputs": [],
      "source": [
        "model_boundary_difussion = load_model(\n",
        "    '/content/drive/MyDrive/models_TFM/model_boundary_difussion.h5', \n",
        "    custom_objects={'custom_loss':custom_loss}\n",
        "    )"
      ]
    },
    {
      "cell_type": "markdown",
      "metadata": {
        "id": "Kza_WaT6-QwZ"
      },
      "source": [
        "\n",
        "\n",
        "\n",
        "\n",
        "\n",
        "\n",
        "\n",
        "\n",
        "\n",
        "\n",
        "\n",
        "\n",
        "\n",
        "\n",
        "# Linear diffusion in 2D"
      ]
    },
    {
      "cell_type": "markdown",
      "metadata": {
        "id": "t-bNFJgx-Qwc"
      },
      "source": [
        "The equation is given by:\n",
        "\\begin{align*}\n",
        "Lu&=\\frac{\\partial^2 u}{\\partial x^2} + \\frac{\\partial^2 u}{\\partial y^2}=f \\;\\;;\\; x \\in \\Omega\\\\\n",
        "u&=g \\;\\;;\\; x \\in \\Gamma\\\\\n",
        "\\end{align*}\n",
        "\n",
        "The set $\\Gamma \\subset \\partial \\Omega$ is all the boundary. In such way we have that:\n",
        "\n",
        "$$\\Gamma = \\{x\\in\\partial\\Omega\\}.$$\n",
        "\n",
        "And taking the analytic solution as follows:\n",
        "$$u = \\exp(−(2x^2 + 4y^2)) + 1/2$$\n",
        "\n",
        "Therefore, we have: \n",
        "\\begin{align*}\n",
        "f(x) &= 4\\exp(-2(x^2 + 2y^2))(-1 + 4x^2) + 8\\exp(-2(x^2 + 2 y^2))(-1 + 8y^2)\n",
        "\\end{align*} \n",
        "\n",
        "So, the ansatz, $\\hat{u}=\\hat{u}(x;w,b)$, take the form:\n",
        "\n",
        "$$u(x) = G(x) + D(x)y^L (x; w, b) $$"
      ]
    },
    {
      "cell_type": "code",
      "execution_count": null,
      "metadata": {
        "id": "Sz_hwXen-Qwe"
      },
      "outputs": [],
      "source": [
        "import tensorflow as tf\n",
        "from tensorflow.keras.optimizers import Adam\n",
        "from tensorflow.keras.models import Model\n",
        "from tensorflow.keras.layers import Dense\n",
        "from tensorflow.keras import Input\n",
        "import numpy as np\n",
        "import matplotlib.pylab as plt"
      ]
    },
    {
      "cell_type": "code",
      "execution_count": null,
      "metadata": {
        "id": "A9Xt1xd6-Qwg"
      },
      "outputs": [],
      "source": [
        "#Define the model\n",
        "\n",
        "inputs = Input(shape=(2,))\n",
        "x = Dense(10, 'sigmoid', dtype='float64')(inputs)\n",
        "x = Dense(10, 'sigmoid')(x)\n",
        "x = Dense(10, 'sigmoid')(x)\n",
        "x = Dense(10, 'sigmoid')(x)\n",
        "x = Dense(10, 'sigmoid')(x)\n",
        "y = Dense(1, dtype='float64')(x)\n",
        "model = Model(inputs=inputs, outputs=y)\n",
        "\n",
        "tf.keras.utils.plot_model(model,show_shapes=True)"
      ]
    },
    {
      "cell_type": "code",
      "execution_count": null,
      "metadata": {
        "id": "b9mmiYLK-Qwi"
      },
      "outputs": [],
      "source": [
        "def get_random_inside_polygon(polygon):\n",
        "  minx, miny, maxx, maxy = polygon.bounds\n",
        "  while True:\n",
        "    p = Point(random.uniform(minx, maxx), random.uniform(miny, maxy))\n",
        "    if polygon.contains(p):\n",
        "      x, y = p.x, p.y\n",
        "      return [x, y]\n",
        "\n",
        "def u(x, y):\n",
        "  return np.exp(-(2*x**2 + 4*y**2)) + 1/2\n",
        "\n",
        "def f(x, y):\n",
        "  d2f_dx2 = 4*np.exp(-2*(x**2 + 2*y**2))*(-1 + 4*x**2)\n",
        "  d2f_dy2 = 8*np.exp(-2*(x**2 + 2*y**2))*(-1 + 8*y**2)\n",
        "  return d2f_dx2 + d2f_dy2\n",
        "\n",
        "def D(x, y):\n",
        "  points = tf.transpose([x, y])\n",
        "  return model_distance_difussion(points)\n",
        "\n",
        "def G(x, y):\n",
        "  points = tf.transpose([x, y])\n",
        "  return model_boundary_difussion(points)"
      ]
    },
    {
      "cell_type": "code",
      "execution_count": null,
      "metadata": {
        "id": "5VwAkZgq-Qwl"
      },
      "outputs": [],
      "source": [
        "num_samples = 1000\n",
        "\n",
        "#Random set to train of train_size random points\n",
        "inside_points = [get_random_inside_polygon(star_poly) for _ in range(num_samples)]\n",
        "\n",
        "x_train = tf.constant([point[0] for point in inside_points], dtype='float64')\n",
        "y_train = tf.constant([point[1] for point in inside_points], dtype='float64')\n",
        "\n",
        "z_train = f(x_train, y_train)\n",
        "# using the high level tf.data API for data handling\n",
        "dataset = tf.data.Dataset.from_tensor_slices((x_train,y_train)).batch(1)"
      ]
    },
    {
      "cell_type": "code",
      "execution_count": null,
      "metadata": {
        "id": "RrGQ8tvE-Qwm"
      },
      "outputs": [],
      "source": [
        "opt = Adam(learning_rate=0.01, beta_1=0.9, beta_2=0.99)\n",
        "\n",
        "x_variable = tf.Variable(x_train)\n",
        "y_variable = tf.Variable(y_train) \n",
        "\n",
        "with tf.GradientTape() as gt_x2, tf.GradientTape() as gt_y2:\n",
        "  gt_x2.watch(x_variable)\n",
        "  gt_y2.watch(y_variable)\n",
        "  with tf.GradientTape() as gt_x, tf.GradientTape() as gt_y:\n",
        "    gt_x.watch(x_variable)\n",
        "    gt_y.watch(y_variable)\n",
        "    G_xy = G(x_variable, y_variable)\n",
        "  dG_dx = gt_x.gradient(G_xy, x_variable)   \n",
        "  dG_dy = gt_y.gradient(G_xy, y_variable)\n",
        "d2G_dx2 = gt_x2.gradient(dG_dx, x_variable)   \n",
        "d2G_dy2 = gt_y2.gradient(dG_dy, y_variable)  \n",
        "\n",
        "G_pred = G(x_variable, y_variable)\n",
        "\n",
        "with tf.GradientTape() as dt_x2, tf.GradientTape() as dt_y2:\n",
        "  dt_x2.watch(x_variable)\n",
        "  dt_y2.watch(y_variable)\n",
        "  with tf.GradientTape() as dt_x, tf.GradientTape() as dt_y:\n",
        "    dt_x.watch(x_variable)\n",
        "    dt_y.watch(y_variable)\n",
        "    D_xy = D(x_variable, y_variable)\n",
        "  dD_dx = dt_x.gradient(D_xy, x_variable)\n",
        "  dD_dy = dt_y.gradient(D_xy, y_variable)    \n",
        "d2D_dx2 = dt_x2.gradient(dD_dx, x_variable)  \n",
        "d2D_dy2 = dt_y2.gradient(dD_dy, y_variable)      \n",
        "\n",
        "D_pred = D(x_variable, y_variable)\n",
        "\n",
        "ff = tf.constant(f(x_variable, y_variable))\n",
        "\n",
        "n_train_steps = 10000\n",
        "\n",
        "v_loss  = np.empty((n_train_steps,0))\n",
        "v_error = np.empty((n_train_steps,0))\n",
        "z_pred_old = np.zeros_like(x_variable)\n",
        "\n",
        "################################################################################\n",
        "\n",
        "for step in range(n_train_steps):\n",
        "    with tf.GradientTape() as model_tape:\n",
        "        with tf.GradientTape() as z_tape_x2, tf.GradientTape() as z_tape_y2:\n",
        "          z_tape_x2.watch(x_variable)\n",
        "          z_tape_y2.watch(y_variable)\n",
        "          with tf.GradientTape() as z_tape_x, tf.GradientTape() as z_tape_y:\n",
        "            z_tape_x.watch(x_variable)\n",
        "            z_tape_y.watch(y_variable)\n",
        "            z_pred = model(tf.transpose([x_variable, y_variable]))\n",
        "          dz_dx = z_tape_x.gradient(z_pred, x_variable)\n",
        "          dz_dy = z_tape_y.gradient(z_pred, y_variable)\n",
        "        d2z_dx2 = z_tape_x2.gradient(dz_dx, x_variable)\n",
        "        d2z_dy2 = z_tape_y2.gradient(dz_dy, y_variable)\n",
        "        z_pred_old = z_pred.numpy()\n",
        "        lu = (\n",
        "            d2G_dx2.numpy() + d2D_dx2.numpy()*z_pred.numpy().reshape(-1) + 2*dD_dx.numpy()*dz_dx + D_pred.numpy()*d2z_dx2 +\n",
        "            d2G_dy2.numpy() + d2D_dy2.numpy()*z_pred.numpy().reshape(-1) + 2*dD_dy.numpy()*dz_dy + D_pred.numpy()*d2z_dy2\n",
        "            )\n",
        "        loss = tf.reduce_sum(tf.math.squared_difference(lu, ff))\n",
        "        v_loss = np.append(v_loss,loss)\n",
        "        \n",
        "    grads = model_tape.gradient(loss, model.trainable_variables)\n",
        "    opt.apply_gradients(\n",
        "        (grad, var) \n",
        "        for (grad, var) in zip(grads, model.trainable_variables) \n",
        "        if grad is not None\n",
        ")\n",
        "\n",
        "\n",
        "    Yl = model(tf.transpose([x_variable, y_variable])).numpy().reshape(-1)\n",
        "    Ds = D(x_variable, y_variable).numpy().reshape(-1)\n",
        "    Gs = G(x_variable, y_variable).numpy().reshape(-1)\n",
        "    u_hat = Gs+Ds*Yl\n",
        "    error = np.max(np.abs(u_hat-u(x_variable, y_variable)))\n",
        "    v_error = np.append(v_error, error)"
      ]
    },
    {
      "cell_type": "markdown",
      "metadata": {
        "id": "O-zl2pVG-Qwo"
      },
      "source": [
        "## Plotting diffusion model"
      ]
    },
    {
      "cell_type": "code",
      "execution_count": null,
      "metadata": {
        "id": "g_XHsqfV-Qwp"
      },
      "outputs": [],
      "source": [
        "@np.vectorize\n",
        "def model_inside_difussion(x, y, polygon: Polygon):\n",
        "  distance = model.predict([[x, y]])[0][0] if polygon.contains(Point([x, y])) else np.nan\n",
        "  return distance\n",
        "\n",
        "@np.vectorize\n",
        "def model_distances_difussion(x, y, polygon: Polygon):\n",
        "  distance_value = model_distance_difussion.predict([[x, y]])[0][0] if polygon.contains(Point([x, y])) else np.nan\n",
        "  return distance_value\n",
        "\n",
        "@np.vectorize\n",
        "def model_boundaries_difussion(x, y, polygon: Polygon):\n",
        "  boundary_value = model_boundary_difussion.predict([[x, y]])[0][0] if polygon.contains(Point([x, y])) else np.nan\n",
        "  return boundary_value"
      ]
    },
    {
      "cell_type": "code",
      "execution_count": null,
      "metadata": {
        "id": "-46hwmxu-Qwq"
      },
      "outputs": [],
      "source": [
        "# generate 2 2d grids for the x & y bounds\n",
        "y, x = np.meshgrid(np.linspace(-1, 1, 100), np.linspace(-1, 1, 100))\n",
        "z = model_inside_difussion(x, y, star_poly) * model_distances_difussion(x, y, star_poly) + model_boundaries_difussion(x, y, star_poly)"
      ]
    },
    {
      "cell_type": "code",
      "execution_count": null,
      "metadata": {
        "id": "Z0KJ2jai-Qwq"
      },
      "outputs": [],
      "source": [
        "z_min, z_max = -2*np.nanmedian(z), 2*np.nanmedian(z)#np.nanmax(z)\n",
        "\n",
        "fig, ax = plt.subplots(figsize=(13,8))\n",
        "\n",
        "c = ax.pcolormesh(x, y, z, cmap='RdBu', vmin=z_min, vmax=z_max)\n",
        "ax.set_title('Smoothed function')\n",
        "# set the limits of the plot to the limits of the data\n",
        "ax.axis([x.min(), x.max(), y.min(), y.max()])\n",
        "fig.colorbar(c, ax=ax)\n",
        "\n",
        "plt.show()"
      ]
    },
    {
      "cell_type": "markdown",
      "metadata": {
        "id": "S41iz4BH-Qws"
      },
      "source": [
        "## Save difussion model 2D "
      ]
    },
    {
      "cell_type": "code",
      "execution_count": null,
      "metadata": {
        "colab": {
          "background_save": true
        },
        "id": "hn1WLh2Y-Qws"
      },
      "outputs": [],
      "source": [
        "model.save('/content/drive/MyDrive/models_TFM/model_difussion.h5')"
      ]
    },
    {
      "cell_type": "markdown",
      "metadata": {
        "id": "HAGwUc7N-Qwt"
      },
      "source": [
        "## Load difussion model 2D "
      ]
    },
    {
      "cell_type": "code",
      "execution_count": null,
      "metadata": {
        "colab": {
          "background_save": true
        },
        "id": "LQaKxede-Qwt"
      },
      "outputs": [],
      "source": [
        "model_difussion = load_model(\n",
        "    '/content/drive/MyDrive/models_TFM/model_difussion.h5', \n",
        "    custom_objects={'custom_loss':custom_loss}\n",
        "    )"
      ]
    },
    {
      "cell_type": "code",
      "execution_count": null,
      "metadata": {
        "colab": {
          "background_save": true
        },
        "id": "6VO_I6HSbigD"
      },
      "outputs": [],
      "source": []
    }
  ],
  "metadata": {
    "colab": {
      "provenance": [],
      "collapsed_sections": [
        "rNKlnwgwCGSW",
        "w4O4NOp9CGSY",
        "E7q-TkM2CGSZ",
        "6QhdV7wxCGSc",
        "7JsWZ3WdCGSd",
        "S41iz4BH-Qws"
      ]
    },
    "gpuClass": "standard",
    "kernelspec": {
      "display_name": "Python 3",
      "name": "python3"
    },
    "language_info": {
      "name": "python"
    }
  },
  "nbformat": 4,
  "nbformat_minor": 0
}